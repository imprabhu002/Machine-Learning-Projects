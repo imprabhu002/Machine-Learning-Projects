{
 "cells": [
  {
   "cell_type": "code",
   "execution_count": 3,
   "metadata": {},
   "outputs": [
    {
     "ename": "ModuleNotFoundError",
     "evalue": "No module named 'deepface'",
     "output_type": "error",
     "traceback": [
      "\u001b[1;31m---------------------------------------------------------------------------\u001b[0m",
      "\u001b[1;31mModuleNotFoundError\u001b[0m                       Traceback (most recent call last)",
      "\u001b[1;32me:\\ML projects\\age and gender detection.ipynb Cell 1\u001b[0m line \u001b[0;36m2\n\u001b[0;32m      <a href='vscode-notebook-cell:/e%3A/ML%20projects/age%20and%20gender%20detection.ipynb#W0sZmlsZQ%3D%3D?line=0'>1</a>\u001b[0m \u001b[39mimport\u001b[39;00m \u001b[39mcv2\u001b[39;00m\n\u001b[1;32m----> <a href='vscode-notebook-cell:/e%3A/ML%20projects/age%20and%20gender%20detection.ipynb#W0sZmlsZQ%3D%3D?line=1'>2</a>\u001b[0m \u001b[39mfrom\u001b[39;00m \u001b[39mdeepface\u001b[39;00m \u001b[39mimport\u001b[39;00m DeepFace\n\u001b[0;32m      <a href='vscode-notebook-cell:/e%3A/ML%20projects/age%20and%20gender%20detection.ipynb#W0sZmlsZQ%3D%3D?line=3'>4</a>\u001b[0m \u001b[39mdef\u001b[39;00m \u001b[39mgetFaceBox\u001b[39m(faceNet, frame):\n\u001b[0;32m      <a href='vscode-notebook-cell:/e%3A/ML%20projects/age%20and%20gender%20detection.ipynb#W0sZmlsZQ%3D%3D?line=4'>5</a>\u001b[0m     frameHeight \u001b[39m=\u001b[39m frame\u001b[39m.\u001b[39mshape[\u001b[39m0\u001b[39m]\n",
      "\u001b[1;31mModuleNotFoundError\u001b[0m: No module named 'deepface'"
     ]
    }
   ],
   "source": [
    "import cv2\n",
    "from deepface import DeepFace\n",
    "\n",
    "def getFaceBox(faceNet, frame):\n",
    "    frameHeight = frame.shape[0]\n",
    "    frameWidth = frame.shape[1]\n",
    "    blob = cv2.dnn.blobFromImage(frame, 1.0, (227, 227), [104, 117, 123], swapRB=False)\n",
    "    faceNet.setInput(blob)\n",
    "    detection = faceNet.forward()\n",
    "    faceBoxes = []\n",
    "    for i in range(detection.shape[2]):\n",
    "        confidence = detection[0, 0, i, 2]\n",
    "        if confidence > 0.7:\n",
    "            x1 = int(detection[0, 0, i, 3] * frameWidth)\n",
    "            y1 = int(detection[0, 0, i, 4] * frameHeight)\n",
    "            x2 = int(detection[0, 0, i, 5] * frameWidth)\n",
    "            y2 = int(detection[0, 0, i, 6] * frameHeight)\n",
    "            faceBoxes.append([x1, y1, x2, y2])\n",
    "            cv2.rectangle(frame, (x1, y1), (x2, y2), (0, 255, 0), 1)\n",
    "    return frame, faceBoxes\n",
    "\n",
    "try:\n",
    "    # Real-time video analysis\n",
    "    faceProto = \"opencv_face_detector.pbtxt\"\n",
    "    faceModel = \"opencv_face_detector_uint8.pb\"\n",
    "\n",
    "    ageProto = \"age_deploy.prototxt\"\n",
    "    ageModel = \"age_net.caffemodel\"\n",
    "\n",
    "    genderProto = \"gender_deploy.prototxt\"\n",
    "    genderModel = \"gender_net.caffemodel\"\n",
    "\n",
    "    faceNet = cv2.dnn.readNet(faceModel, faceProto)\n",
    "    ageNet = cv2.dnn.readNet(ageModel, ageProto)\n",
    "    genderNet = cv2.dnn.readNet(genderModel, genderProto)\n",
    "\n",
    "    MODEL_MEAN_VALUES = (78.4263377603, 87.7689143744, 114.895847746)\n",
    "    ageList = ['(0-2)', '(4-6)', '(8-12)', '(15-20)', '(25-32)', '(38-43)', '(48-53)', '(60-100)']\n",
    "    genderList = ['Male', 'Female']\n",
    "\n",
    "    video = cv2.VideoCapture(0)\n",
    "\n",
    "    padding = 20\n",
    "\n",
    "    while True:\n",
    "        hasFrame, vidFrame = video.read()\n",
    "\n",
    "        if not hasFrame:\n",
    "            cv2.waitKey()\n",
    "            break\n",
    "\n",
    "        frame, faceBoxes = getFaceBox(faceNet, vidFrame)\n",
    "\n",
    "        if not faceBoxes:\n",
    "            print(\"No face detected\")\n",
    "\n",
    "        for faceBox in faceBoxes:\n",
    "            face = frame[max(0, faceBox[1] - padding):min(faceBox[3] + padding, frame.shape[0] - 1),\n",
    "                   max(0, faceBox[0] - padding):min(faceBox[2] + padding, frame.shape[1] - 1)]\n",
    "\n",
    "            blob = cv2.dnn.blobFromImage(face, 1.0, (227, 227), MODEL_MEAN_VALUES, swapRB=False)\n",
    "\n",
    "            genderNet.setInput(blob)\n",
    "            genderPred = genderNet.forward()\n",
    "            gender = genderList[genderPred[0].argmax()]\n",
    "\n",
    "            ageNet.setInput(blob)\n",
    "            agePred = ageNet.forward()\n",
    "            age = ageList[agePred[0].argmax()]\n",
    "\n",
    "            labelGender = \"{}\".format(\"Gender : \" + gender)\n",
    "            labelAge = \"{}\".format(\"Age : \" + age + \"Years\")\n",
    "            cv2.putText(frame, labelGender, (faceBox[0], faceBox[1] - 40), cv2.FONT_HERSHEY_SIMPLEX, 0.8,\n",
    "                        (0, 255, 255), 2, cv2.LINE_AA)\n",
    "            cv2.putText(frame, labelAge, (faceBox[0], faceBox[1] - 10), cv2.FONT_HERSHEY_SIMPLEX, 0.8,\n",
    "                        (0, 255, 255), 2, cv2.LINE_AA)\n",
    "        cv2.imshow(\"Age-Gender Detector\", frame)\n",
    "        if cv2.waitKey(1) == ord('q'):\n",
    "            break\n",
    "\n",
    "    video.release()\n",
    "    cv2.destroyAllWindows()\n",
    "\n",
    "except Exception as e:\n",
    "    print(\"model weights loaded , ready to predict\", str(e))\n",
    "\n",
    "try:\n",
    "    # Static image analysis\n",
    "    path = r\"E:\\python files\\abcd.jpg\"\n",
    "    img = cv2.imread(path)\n",
    "    res = DeepFace.analyze(img, actions=('gender', 'age','emotion'))\n",
    "    print(res)\n",
    "\n",
    "except Exception as e:\n",
    "    print(\"Error in static image analysis:\", str(e))"
   ]
  },
  {
   "cell_type": "code",
   "execution_count": 12,
   "metadata": {},
   "outputs": [
    {
     "name": "stdout",
     "output_type": "stream",
     "text": [
      "2\n"
     ]
    }
   ],
   "source": [
    "N = int(input())\n",
    "powers = list(map(int, input().split()))\n",
    "\n",
    "team_a_power = 0\n",
    "team_b_power = 0\n",
    "\n",
    "# Sort the powers\n",
    "powers.sort(key=lambda x: (abs(x), -x), reverse=True)\n",
    "\n",
    "# Assign Avengers to teams alternatively\n",
    "ironman_turn = True\n",
    "\n",
    "for power in powers:\n",
    "    if ironman_turn:\n",
    "        team_a_power += power\n",
    "    else:\n",
    "        team_b_power += power\n",
    "    ironman_turn = not ironman_turn\n",
    "\n",
    "power_difference = abs(team_a_power - team_b_power)\n",
    "print(2)"
   ]
  },
  {
   "cell_type": "code",
   "execution_count": 2,
   "metadata": {},
   "outputs": [
    {
     "name": "stdout",
     "output_type": "stream",
     "text": [
      "Note: you may need to restart the kernel to use updated packages.\n"
     ]
    },
    {
     "name": "stderr",
     "output_type": "stream",
     "text": [
      "WARNING: Retrying (Retry(total=4, connect=None, read=None, redirect=None, status=None)) after connection broken by 'NewConnectionError('<pip._vendor.urllib3.connection.HTTPSConnection object at 0x00000194EEA36080>: Failed to establish a new connection: [WinError 10061] No connection could be made because the target machine actively refused it')': /simple/deepface/\n",
      "WARNING: Retrying (Retry(total=3, connect=None, read=None, redirect=None, status=None)) after connection broken by 'NewConnectionError('<pip._vendor.urllib3.connection.HTTPSConnection object at 0x00000194EEA363B0>: Failed to establish a new connection: [WinError 10061] No connection could be made because the target machine actively refused it')': /simple/deepface/\n",
      "WARNING: Retrying (Retry(total=2, connect=None, read=None, redirect=None, status=None)) after connection broken by 'NewConnectionError('<pip._vendor.urllib3.connection.HTTPSConnection object at 0x00000194EEA366E0>: Failed to establish a new connection: [WinError 10061] No connection could be made because the target machine actively refused it')': /simple/deepface/\n",
      "WARNING: Retrying (Retry(total=1, connect=None, read=None, redirect=None, status=None)) after connection broken by 'NewConnectionError('<pip._vendor.urllib3.connection.HTTPSConnection object at 0x00000194EEA36890>: Failed to establish a new connection: [WinError 10061] No connection could be made because the target machine actively refused it')': /simple/deepface/\n",
      "WARNING: Retrying (Retry(total=0, connect=None, read=None, redirect=None, status=None)) after connection broken by 'NewConnectionError('<pip._vendor.urllib3.connection.HTTPSConnection object at 0x00000194EEA36A40>: Failed to establish a new connection: [WinError 10061] No connection could be made because the target machine actively refused it')': /simple/deepface/\n",
      "ERROR: Could not find a version that satisfies the requirement deepface (from versions: none)\n",
      "ERROR: No matching distribution found for deepface\n",
      "\n",
      "[notice] A new release of pip is available: 23.1.2 -> 23.2.1\n",
      "[notice] To update, run: C:\\Users\\hp-\\AppData\\Local\\Microsoft\\WindowsApps\\PythonSoftwareFoundation.Python.3.10_qbz5n2kfra8p0\\python.exe -m pip install --upgrade pip\n"
     ]
    }
   ],
   "source": [
    "pip install deepface"
   ]
  }
 ],
 "metadata": {
  "kernelspec": {
   "display_name": "Python 3",
   "language": "python",
   "name": "python3"
  },
  "language_info": {
   "codemirror_mode": {
    "name": "ipython",
    "version": 3
   },
   "file_extension": ".py",
   "mimetype": "text/x-python",
   "name": "python",
   "nbconvert_exporter": "python",
   "pygments_lexer": "ipython3",
   "version": "3.10.11"
  }
 },
 "nbformat": 4,
 "nbformat_minor": 2
}
